{
 "cells": [
  {
   "cell_type": "markdown",
   "id": "93fe641f-9d70-4fa6-8756-61aff1cecc87",
   "metadata": {},
   "source": [
    "# BigMac Dashboard"
   ]
  },
  {
   "cell_type": "markdown",
   "id": "a08c7ba2-88b7-452b-a4e4-d61105d533a2",
   "metadata": {},
   "source": [
    "### Imports"
   ]
  },
  {
   "cell_type": "code",
   "execution_count": 4,
   "id": "3e3b32e1-e6f4-4360-b88c-b02975d9b523",
   "metadata": {},
   "outputs": [],
   "source": [
    "import dash\n",
    "from dash import dcc, html\n",
    "from dash.dependencies import Input, Output\n",
    "import pandas as pd\n",
    "import plotly.express as px"
   ]
  },
  {
   "cell_type": "code",
   "execution_count": 5,
   "id": "4a9c758e-5f7e-405c-b24a-75fbf909ae3c",
   "metadata": {},
   "outputs": [],
   "source": [
    "bigmac_data = pd.read_csv(\"data/raw/bigmac_price.csv\")\n",
    "wage_data = pd.read_csv(\"data/raw/wage.csv\")\n",
    "\n",
    "# Data Wrangling\n",
    "bigmac_data['year'] = pd.to_datetime(bigmac_data['date']).dt.year\n",
    "wage_data['year'] = wage_data['TIME'].astype(int)\n",
    "bigmac_data_unique = bigmac_data.drop_duplicates(subset=['name', 'year'])\n",
    "wage_data_simplified = wage_data[['Country', 'year', 'Value']].rename(columns={'Value': 'annual_wage_usd_ppp'}).drop_duplicates(subset=['Country', 'year'])\n",
    "wage_data_simplified['hourly_wage_usd_ppp'] = wage_data_simplified['annual_wage_usd_ppp'] / (40 * 52)\n",
    "final_data_cleaned = pd.merge(bigmac_data_unique, wage_data_simplified, left_on=['name', 'year'], right_on=['Country', 'year'], how='inner').drop_duplicates(subset=['name', 'year']).dropna()\n",
    "final_data_cleaned['big_macs_per_hour'] = final_data_cleaned['hourly_wage_usd_ppp'] / final_data_cleaned['dollar_price']\n"
   ]
  },
  {
   "cell_type": "code",
   "execution_count": 6,
   "id": "154ca5e2-f6d8-4369-8800-0e8a0be7f3e9",
   "metadata": {},
   "outputs": [
    {
     "data": {
      "text/html": [
       "\n",
       "        <iframe\n",
       "            width=\"100%\"\n",
       "            height=\"650\"\n",
       "            src=\"http://127.0.0.1:8050/\"\n",
       "            frameborder=\"0\"\n",
       "            allowfullscreen\n",
       "            \n",
       "        ></iframe>\n",
       "        "
      ],
      "text/plain": [
       "<IPython.lib.display.IFrame at 0x13d509a30>"
      ]
     },
     "metadata": {},
     "output_type": "display_data"
    }
   ],
   "source": [
    "# Dash App\n",
    "app = dash.Dash(__name__)\n",
    "\n",
    "app.layout = html.Div([\n",
    "    html.H1(\"Big Mac Index Dashboard\"),\n",
    "    dcc.Dropdown(\n",
    "        id='country-selector',\n",
    "        options=[{'label': i, 'value': i} for i in final_data_cleaned['name'].unique()],\n",
    "        value='United States'  # Default value\n",
    "    ),\n",
    "    dcc.Graph(id='big-mac-index-plot'),\n",
    "])\n",
    "\n",
    "@app.callback(\n",
    "    Output('big-mac-index-plot', 'figure'),\n",
    "    [Input('country-selector', 'value')]\n",
    ")\n",
    "def update_graph(selected_country):\n",
    "    filtered_data = final_data_cleaned[final_data_cleaned['name'] == selected_country]\n",
    "    fig = px.line(filtered_data, x='year', y='big_macs_per_hour', title=f\"Big Macs per Hour in {selected_country}\")\n",
    "    return fig\n",
    "\n",
    "if __name__ == '__main__':\n",
    "    app.run_server(debug=True, host='127.0.0.1', port=8050)"
   ]
  },
  {
   "cell_type": "code",
   "execution_count": null,
   "id": "1f9c5eb3-e0e6-4d82-b99e-b1ce7ba178ba",
   "metadata": {},
   "outputs": [],
   "source": []
  }
 ],
 "metadata": {
  "kernelspec": {
   "display_name": "Python [conda env:bigmac_12]",
   "language": "python",
   "name": "conda-env-bigmac_12-py"
  },
  "language_info": {
   "codemirror_mode": {
    "name": "ipython",
    "version": 3
   },
   "file_extension": ".py",
   "mimetype": "text/x-python",
   "name": "python",
   "nbconvert_exporter": "python",
   "pygments_lexer": "ipython3",
   "version": "3.12.2"
  }
 },
 "nbformat": 4,
 "nbformat_minor": 5
}
